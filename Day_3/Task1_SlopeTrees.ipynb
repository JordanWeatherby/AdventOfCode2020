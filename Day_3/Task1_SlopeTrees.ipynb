{
 "cells": [
  {
   "cell_type": "code",
   "execution_count": null,
   "metadata": {
    "scrolled": true
   },
   "outputs": [],
   "source": [
    "input = []\n",
    "try:\n",
    "    f=open('input.txt',\"r\")\n",
    "    for line in f:\n",
    "        input.append(line.strip('\\n'))\n",
    "    print(input)\n",
    "except:\n",
    "    print(\"Failed to read file\")\n",
    "    "
   ]
  },
  {
   "cell_type": "code",
   "execution_count": null,
   "metadata": {},
   "outputs": [],
   "source": [
    "import operator\n",
    "slope = [1,3]\n",
    "\n",
    "pos=[0,0]\n",
    "\n",
    "trees = 0\n",
    "\n",
    "for line in input:\n",
    "    pos[1] = pos[1] % len(input[1])\n",
    "    print(pos)\n",
    "    if input[pos[0]][pos[1]] == '#':\n",
    "        trees += 1\n",
    "        print(trees)\n",
    "    pos = list(map(operator.add, pos, slope))"
   ]
  }
 ],
 "metadata": {
  "kernelspec": {
   "display_name": "Python 3",
   "language": "python",
   "name": "python3"
  },
  "language_info": {
   "codemirror_mode": {
    "name": "ipython",
    "version": 3
   },
   "file_extension": ".py",
   "mimetype": "text/x-python",
   "name": "python",
   "nbconvert_exporter": "python",
   "pygments_lexer": "ipython3",
   "version": "3.7.3"
  }
 },
 "nbformat": 4,
 "nbformat_minor": 2
}
