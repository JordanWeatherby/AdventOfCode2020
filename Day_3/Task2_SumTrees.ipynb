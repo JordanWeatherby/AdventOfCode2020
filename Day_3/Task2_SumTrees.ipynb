{
 "cells": [
  {
   "cell_type": "code",
   "execution_count": null,
   "metadata": {
    "scrolled": true
   },
   "outputs": [],
   "source": [
    "input = []\n",
    "try:\n",
    "    f=open('input.txt',\"r\")\n",
    "    for line in f:\n",
    "        input.append(line.strip('\\n'))\n",
    "    print(input)\n",
    "except:\n",
    "    print(\"Failed to read file\")\n",
    "    "
   ]
  },
  {
   "cell_type": "code",
   "execution_count": null,
   "metadata": {
    "scrolled": true
   },
   "outputs": [],
   "source": [
    "import operator\n",
    "import numpy as np\n",
    "slopes = [[1,1],[1,3],[1,5],[1,7],[2,1]]\n",
    "\n",
    "trees = []\n",
    "\n",
    "for sl in slopes:\n",
    "    print(\"testing slope\")\n",
    "    tr = 0\n",
    "    pos=[0,0]\n",
    "    for line in input:\n",
    "        pos[1] = pos[1] % len(input[1])\n",
    "        print(pos)\n",
    "        if input[pos[0]][pos[1]] == '#':\n",
    "            tr += 1\n",
    "            print(tr)\n",
    "        pos = list(map(operator.add, pos, sl))\n",
    "        if pos[0] > len(input):\n",
    "            break\n",
    "    trees.append(tr)\n",
    "print(trees)"
   ]
  },
  {
   "cell_type": "code",
   "execution_count": null,
   "metadata": {},
   "outputs": [],
   "source": [
    "sum = 1\n",
    "for t in trees:\n",
    "    sum *= t\n",
    "sum"
   ]
  }
 ],
 "metadata": {
  "kernelspec": {
   "display_name": "Python 3",
   "language": "python",
   "name": "python3"
  },
  "language_info": {
   "codemirror_mode": {
    "name": "ipython",
    "version": 3
   },
   "file_extension": ".py",
   "mimetype": "text/x-python",
   "name": "python",
   "nbconvert_exporter": "python",
   "pygments_lexer": "ipython3",
   "version": "3.7.3"
  }
 },
 "nbformat": 4,
 "nbformat_minor": 2
}
