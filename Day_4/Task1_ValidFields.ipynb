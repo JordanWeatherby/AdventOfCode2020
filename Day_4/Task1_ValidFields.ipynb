{
 "cells": [
  {
   "cell_type": "code",
   "execution_count": null,
   "metadata": {},
   "outputs": [],
   "source": [
    "input = []\n",
    "try:\n",
    "    f=open('input.txt',\"r\")\n",
    "    input = f.read().split('\\n\\n')\n",
    "except:\n",
    "    print(\"Failed to read file\")\n",
    "    \n",
    "for i in range(0,len(input)):\n",
    "    input[i] = input[i].replace('\\n', ' ')\n",
    "print(input)"
   ]
  },
  {
   "cell_type": "code",
   "execution_count": null,
   "metadata": {},
   "outputs": [],
   "source": [
    "required = ['byr', 'iyr', 'eyr', 'hgt', 'hcl', 'ecl', 'pid']\n",
    "valid = 0\n",
    "for passport in input:\n",
    "    if all(word in passport for word in required):\n",
    "        valid+=1\n",
    "        print(passport, \"valid\")\n",
    "    else:\n",
    "        print(passport, \"invalid\")\n",
    "        \n",
    "print(valid)"
   ]
  }
 ],
 "metadata": {
  "kernelspec": {
   "display_name": "Python 3",
   "language": "python",
   "name": "python3"
  },
  "language_info": {
   "codemirror_mode": {
    "name": "ipython",
    "version": 3
   },
   "file_extension": ".py",
   "mimetype": "text/x-python",
   "name": "python",
   "nbconvert_exporter": "python",
   "pygments_lexer": "ipython3",
   "version": "3.7.3"
  }
 },
 "nbformat": 4,
 "nbformat_minor": 2
}