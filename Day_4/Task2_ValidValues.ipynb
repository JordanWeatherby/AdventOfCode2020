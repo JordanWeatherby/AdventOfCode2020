{
 "cells": [
  {
   "cell_type": "code",
   "execution_count": null,
   "metadata": {},
   "outputs": [],
   "source": [
    "input = []\n",
    "try:\n",
    "    f=open('input.txt',\"r\")\n",
    "    input = f.read().split('\\n\\n')\n",
    "    print(input)\n",
    "except:\n",
    "    print(\"Failed to read file\")\n",
    "    \n",
    "for i in range(0,len(input)):\n",
    "    input[i] = input[i].replace('\\n', ' ')\n",
    "print(input)"
   ]
  },
  {
   "cell_type": "code",
   "execution_count": null,
   "metadata": {},
   "outputs": [],
   "source": [
    "import re\n",
    "required = ['byr', 'iyr', 'eyr', 'hgt', 'hcl', 'ecl', 'pid']\n",
    "valid = 0\n",
    "for passport in input:\n",
    "    val = True\n",
    "    if all(word in passport for word in required):\n",
    "        passport = passport.split(' ')\n",
    "        for field in passport:\n",
    "            if field[:3] == 'byr' and (int(field[4:]) > 2002 or int(field[4:]) < 1920):\n",
    "                #print('byr')\n",
    "                val = False\n",
    "                break\n",
    "            elif field[:3] == 'iyr' and (int(field[4:]) > 2020 or int(field[4:]) < 2010):\n",
    "                #print('iyr')\n",
    "                val = False\n",
    "                break\n",
    "            elif field[:3] == 'eyr' and (int(field[4:]) > 2030 or int(field[4:]) < 2020):\n",
    "                #print('eyr')\n",
    "                val = False\n",
    "                break\n",
    "            elif field[:3] == 'hgt' and (field[-2:] == 'in' and (int(field[4:-2]) < 59 or int(field[4:-2]) > 76)):\n",
    "                #print('hgt')\n",
    "                val = False\n",
    "                break\n",
    "            elif field[:3] == 'hgt' and (field[-2:] == 'cm' and (int(field[4:-2]) < 150 or int(field[4:-2]) > 193)):\n",
    "                #print('hgt')\n",
    "                val = False\n",
    "                break\n",
    "            elif field[:3] == 'hcl' and not re.match(r'^#[0-9A-Fa-f]{6}$', field[4:]):\n",
    "                #print('hcl')\n",
    "                val = False\n",
    "                #print(field[4:])\n",
    "                break\n",
    "            elif field[:3] == 'ecl' and not any(word in field[4:] for word in ['amb', 'blu', 'brn', 'gry', 'grn', 'hzl', 'oth']):\n",
    "                #print('ecl')\n",
    "                val = False\n",
    "                break\n",
    "            elif field[:3] == 'pid' and not re.match(r'^[0-9]{9}$', field[4:]):\n",
    "                #print('pid')\n",
    "                val = False\n",
    "                break\n",
    "                \n",
    "        if val :\n",
    "            valid +=1\n",
    "            print(passport, \"valid\")\n",
    "            if field[:3] == 'byr':\n",
    "                print(field)\n",
    "        \n",
    "    else:\n",
    "        print(passport, \"invalid\")\n",
    "        \n",
    "print(valid)"
   ]
  }
 ],
 "metadata": {
  "kernelspec": {
   "display_name": "Python 3",
   "language": "python",
   "name": "python3"
  },
  "language_info": {
   "codemirror_mode": {
    "name": "ipython",
    "version": 3
   },
   "file_extension": ".py",
   "mimetype": "text/x-python",
   "name": "python",
   "nbconvert_exporter": "python",
   "pygments_lexer": "ipython3",
   "version": "3.7.3"
  }
 },
 "nbformat": 4,
 "nbformat_minor": 2
}
