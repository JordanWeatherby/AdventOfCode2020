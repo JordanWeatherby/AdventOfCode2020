{
 "cells": [
  {
   "cell_type": "code",
   "execution_count": 1,
   "metadata": {
    "collapsed": true
   },
   "outputs": [],
   "source": [
    "import math\n",
    "def codeToSeatNum(seatCode):\n",
    "    rows = [0,127]\n",
    "    columns  = [0,7]\n",
    "    for letter in seatCode:\n",
    "        if letter == 'F':\n",
    "            rows[1] -= math.ceil((rows[1]-rows[0])/2)\n",
    "            #print('F', rows)\n",
    "        if letter == 'B':\n",
    "            rows[0] += math.ceil((rows[1]-rows[0])/2)\n",
    "            #print('B', rows)\n",
    "        if letter == 'L':\n",
    "            columns[1] -= math.ceil((columns[1]-columns[0])/2)\n",
    "            #print('L', columns)\n",
    "        if letter == 'R':\n",
    "            columns[0] += math.ceil((columns[1]-columns[0])/2)\n",
    "            #print('R', columns)\n",
    "            \n",
    "    seat = (rows[0] * 8) + columns[0]\n",
    "    return seat"
   ]
  },
  {
   "cell_type": "code",
   "execution_count": 11,
   "metadata": {
    "scrolled": true
   },
   "outputs": [],
   "source": [
    "inputs = []\n",
    "nums = []\n",
    "try:\n",
    "    f=open('input.txt',\"r\")\n",
    "    for line in f:\n",
    "        inputs.append(line.strip('\\n'))\n",
    "        nums.append(codeToSeatNum(line.strip('\\n')))\n",
    "except:\n",
    "    print(\"Failed to read file\")\n",
    "\n",
    "nums.sort()\n",
    "#print(nums)\n"
   ]
  },
  {
   "cell_type": "code",
   "execution_count": 10,
   "metadata": {},
   "outputs": [
    {
     "name": "stdout",
     "output_type": "stream",
     "text": [
      "[610]\n"
     ]
    }
   ],
   "source": [
    "def find_missing(lst): \n",
    "    start = lst[0] \n",
    "    end = lst[-1] \n",
    "    return sorted(set(range(start, end + 1)).difference(lst))\n",
    "\n",
    "print(find_missing(nums))"
   ]
  }
 ],
 "metadata": {
  "kernelspec": {
   "display_name": "Python 3",
   "language": "python",
   "name": "python3"
  },
  "language_info": {
   "codemirror_mode": {
    "name": "ipython",
    "version": 3
   },
   "file_extension": ".py",
   "mimetype": "text/x-python",
   "name": "python",
   "nbconvert_exporter": "python",
   "pygments_lexer": "ipython3",
   "version": "3.6.2"
  }
 },
 "nbformat": 4,
 "nbformat_minor": 2
}
