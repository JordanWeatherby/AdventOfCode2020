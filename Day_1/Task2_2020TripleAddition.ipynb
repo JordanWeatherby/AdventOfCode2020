{
 "cells": [
  {
   "cell_type": "code",
   "execution_count": 3,
   "metadata": {},
   "outputs": [],
   "source": [
    "test_nums = [1721,979,366,299,675,1456]"
   ]
  },
  {
   "cell_type": "code",
   "execution_count": 5,
   "metadata": {},
   "outputs": [
    {
     "name": "stdout",
     "output_type": "stream",
     "text": [
      "[1945, 2004, 1520, 1753, 1463, 1976, 1994, 1830, 1942, 1784, 1858, 1841, 1721, 1480, 1821, 1584, 978, 1530, 1278, 1827, 889, 1922, 1996, 1992, 1819, 1847, 2010, 2002, 210, 1924, 1482, 1451, 1867, 1364, 1578, 1623, 1117, 1594, 1476, 1879, 1797, 1952, 2005, 1734, 1898, 1880, 1330, 1854, 1813, 1926, 1686, 1286, 1808, 1876, 1366, 1995, 1632, 1699, 2001, 1365, 1343, 1979, 1868, 1815, 820, 1966, 1888, 1916, 1852, 1932, 1368, 1606, 1825, 1731, 1980, 1990, 1818, 1702, 1419, 1897, 1970, 1276, 1914, 1889, 1953, 1588, 1958, 1310, 1391, 1326, 1131, 1959, 1844, 1307, 1998, 1961, 1708, 1977, 1886, 1946, 1516, 1999, 1859, 1931, 1853, 1265, 1869, 1642, 1740, 1467, 1944, 1956, 1263, 1940, 1912, 1832, 1872, 1678, 1319, 1839, 1689, 1765, 1894, 1242, 1983, 1410, 1985, 1387, 1022, 1358, 860, 112, 1964, 1836, 1838, 1285, 1943, 1718, 1351, 760, 1925, 1842, 1921, 1967, 1822, 1978, 1837, 1378, 1618, 1266, 2003, 1972, 666, 1321, 1938, 1616, 1892, 831, 1865, 1314, 1571, 1806, 1225, 1882, 1454, 1257, 1381, 1284, 1907, 1950, 1887, 1492, 1934, 1709, 1315, 1574, 1794, 1576, 1883, 1864, 1981, 1317, 1397, 1325, 1620, 1895, 1485, 1828, 1803, 1715, 1374, 1251, 1460, 1863, 1581, 1499, 1933, 1982, 1809, 1812]\n"
     ]
    }
   ],
   "source": [
    "input_nums = []\n",
    "\n",
    "# Get numbers to solve\n",
    "try:\n",
    "    f=open('input.txt',\"r\")\n",
    "    for line in f:\n",
    "        input_nums.append(int(line.strip('\\n')))\n",
    "    print(input_nums)\n",
    "except:\n",
    "    print(\"Failed to read file\")"
   ]
  },
  {
   "cell_type": "code",
   "execution_count": 6,
   "metadata": {},
   "outputs": [
    {
     "name": "stdout",
     "output_type": "stream",
     "text": [
      "(1242, 112, 666)\n",
      "92643264\n"
     ]
    }
   ],
   "source": [
    "import itertools\n",
    "\n",
    "# Use numbers from file if exist or use test numbers\n",
    "if not input_nums:\n",
    "    combinations = itertools.combinations(test_nums, 3)\n",
    "else:\n",
    "    combinations = itertools.combinations(input_nums, 3)\n",
    "\n",
    "\n",
    "for c in combinations:\n",
    "    if c[0] + c[1] + c[2] == 2020:\n",
    "        print(c)\n",
    "        print(c[0] * c[1] * c[2])\n",
    "        break"
   ]
  },
  {
   "cell_type": "code",
   "execution_count": null,
   "metadata": {},
   "outputs": [],
   "source": [
    "\n",
    "    "
   ]
  }
 ],
 "metadata": {
  "kernelspec": {
   "display_name": "Python 3",
   "language": "python",
   "name": "python3"
  },
  "language_info": {
   "codemirror_mode": {
    "name": "ipython",
    "version": 3
   },
   "file_extension": ".py",
   "mimetype": "text/x-python",
   "name": "python",
   "nbconvert_exporter": "python",
   "pygments_lexer": "ipython3",
   "version": "3.7.3"
  }
 },
 "nbformat": 4,
 "nbformat_minor": 2
}
