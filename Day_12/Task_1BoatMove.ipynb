{
 "cells": [
  {
   "cell_type": "code",
   "execution_count": null,
   "metadata": {},
   "outputs": [],
   "source": [
    "inputs = []\n",
    "try:\n",
    "    f=open('input.txt',\"r\")\n",
    "    for line in f:\n",
    "        inputs.append(line.strip('\\n'))\n",
    "except:\n",
    "    print(\"Failed to read file\")\n",
    "print(inputs)"
   ]
  },
  {
   "cell_type": "code",
   "execution_count": null,
   "metadata": {},
   "outputs": [],
   "source": [
    "ns = 0\n",
    "ew = 0\n",
    "direction = 1\n",
    "\n",
    "#  0     N\n",
    "# 3 1   W  E\n",
    "#  2     S\n",
    "    \n",
    "for i in inputs:\n",
    "    am = int(i[1:])\n",
    "    if i[0] == 'N':\n",
    "        ns+=am\n",
    "    elif i[0] == 'S':\n",
    "        ns-=am\n",
    "    elif i[0] == 'E':\n",
    "        ew+=am\n",
    "    elif i[0] == 'W':\n",
    "        ew-=am\n",
    "    elif i[0] == 'L':\n",
    "        direction-=(am/90)\n",
    "        direction = direction%4\n",
    "    elif i[0] == 'R':\n",
    "        direction+=(am/90)\n",
    "        direction = direction%4\n",
    "    elif i[0] == 'F':\n",
    "        if direction == 0:\n",
    "            ns+=am\n",
    "        elif direction == 1:\n",
    "            ew+=am\n",
    "        elif direction == 2:\n",
    "            ns-=am\n",
    "        elif direction == 3:\n",
    "            ew-=am\n",
    "    #print([ns,ew])\n",
    "    #print(i)\n",
    "            \n",
    "print(ns)\n",
    "print(ew)\n",
    "print(abs(ns)+abs(ew))"
   ]
  }
 ],
 "metadata": {
  "kernelspec": {
   "display_name": "Python 3",
   "language": "python",
   "name": "python3"
  },
  "language_info": {
   "codemirror_mode": {
    "name": "ipython",
    "version": 3
   },
   "file_extension": ".py",
   "mimetype": "text/x-python",
   "name": "python",
   "nbconvert_exporter": "python",
   "pygments_lexer": "ipython3",
   "version": "3.7.3"
  }
 },
 "nbformat": 4,
 "nbformat_minor": 2
}
