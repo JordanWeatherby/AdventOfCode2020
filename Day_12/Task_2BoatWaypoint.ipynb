{
 "cells": [
  {
   "cell_type": "code",
   "execution_count": null,
   "metadata": {
    "scrolled": true
   },
   "outputs": [],
   "source": [
    "inputs = []\n",
    "try:\n",
    "    f=open('input.txt',\"r\")\n",
    "    for line in f:\n",
    "        inputs.append(line.strip('\\n'))\n",
    "except:\n",
    "    print(\"Failed to read file\")\n",
    "print(inputs)"
   ]
  },
  {
   "cell_type": "code",
   "execution_count": null,
   "metadata": {},
   "outputs": [],
   "source": [
    "ns = 0\n",
    "ew = 0\n",
    "\n",
    "wns = 1\n",
    "wew = 10\n",
    "\n",
    "#  0     N\n",
    "# 3 1   W  E\n",
    "#  2     S\n",
    "    \n",
    "for i in inputs:\n",
    "    am = int(i[1:])\n",
    "    if i[0] == 'N':\n",
    "        wns+=am\n",
    "    elif i[0] == 'S':\n",
    "        wns-=am\n",
    "    elif i[0] == 'E':\n",
    "        wew+=am\n",
    "    elif i[0] == 'W':\n",
    "        wew-=am\n",
    "    elif i[0] == 'L' or i[0] == 'R':\n",
    "        if i[0] == 'L':\n",
    "            am = 360-am \n",
    "            print(am)\n",
    "        if am == 90:\n",
    "            temp = wns\n",
    "            wns = -wew\n",
    "            wew = temp\n",
    "        elif am == 180:\n",
    "            wns = -wns\n",
    "            wew = -wew\n",
    "        elif am == 270:\n",
    "            temp = wns\n",
    "            wns = wew\n",
    "            wew = -temp\n",
    "    elif i[0] == 'F':\n",
    "        for i in range(0,am):\n",
    "            ns+=wns\n",
    "            ew+=wew\n",
    "            \n",
    "print(ns)\n",
    "print(ew)\n",
    "print(abs(ns)+abs(ew))"
   ]
  }
 ],
 "metadata": {
  "kernelspec": {
   "display_name": "Python 3",
   "language": "python",
   "name": "python3"
  },
  "language_info": {
   "codemirror_mode": {
    "name": "ipython",
    "version": 3
   },
   "file_extension": ".py",
   "mimetype": "text/x-python",
   "name": "python",
   "nbconvert_exporter": "python",
   "pygments_lexer": "ipython3",
   "version": "3.7.3"
  }
 },
 "nbformat": 4,
 "nbformat_minor": 2
}
