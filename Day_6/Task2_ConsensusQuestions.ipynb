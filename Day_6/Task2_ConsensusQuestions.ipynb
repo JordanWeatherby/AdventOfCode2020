{
 "cells": [
  {
   "cell_type": "code",
   "execution_count": null,
   "metadata": {},
   "outputs": [],
   "source": [
    "input = []\n",
    "try:\n",
    "    f=open('input.txt',\"r\")\n",
    "    input = f.read().split('\\n\\n')\n",
    "except:\n",
    "    print(\"Failed to read file\")\n",
    "    \n",
    "for i in range(0,len(input)):\n",
    "    input[i] = input[i].replace('\\n', ' ')\n",
    "print(input)"
   ]
  },
  {
   "cell_type": "code",
   "execution_count": null,
   "metadata": {},
   "outputs": [],
   "source": [
    "questions = ['a','b','c','d','e','f','g','h','i','j','k','l','m','n','o','p','q','r','s','t','u','v','w','x','y','z']\n",
    "\n",
    "sum = 0\n",
    "for group in input:\n",
    "    people = group.split()\n",
    "    count_q = 0\n",
    "    for letter in questions:\n",
    "        if group.count(letter) == len(people):\n",
    "            count_q +=1\n",
    "    sum += count_q\n",
    "\n",
    "print(sum)"
   ]
  }
 ],
 "metadata": {
  "kernelspec": {
   "display_name": "Python 3",
   "language": "python",
   "name": "python3"
  },
  "language_info": {
   "codemirror_mode": {
    "name": "ipython",
    "version": 3
   },
   "file_extension": ".py",
   "mimetype": "text/x-python",
   "name": "python",
   "nbconvert_exporter": "python",
   "pygments_lexer": "ipython3",
   "version": "3.7.3"
  }
 },
 "nbformat": 4,
 "nbformat_minor": 2
}
