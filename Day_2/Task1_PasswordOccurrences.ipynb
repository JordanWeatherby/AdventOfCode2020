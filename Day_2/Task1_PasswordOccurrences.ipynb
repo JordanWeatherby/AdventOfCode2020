{
 "cells": [
  {
   "cell_type": "code",
   "execution_count": 1,
   "metadata": {},
   "outputs": [],
   "source": [
    "\"\"\"I really hate this code but it works\"\"\"\n",
    "\n",
    "input = []\n",
    "try:\n",
    "    f=open('input.txt',\"r\")\n",
    "    for line in f:\n",
    "        input.append(line.strip('\\n'))\n",
    "    print(input)\n",
    "except:\n",
    "    print(\"Failed to read file\")"
   ]
  },
  {
   "cell_type": "code",
   "execution_count": 2,
   "metadata": {},
   "outputs": [],
   "source": [
    "mins = [] \n",
    "maxs = []\n",
    "letters = []\n",
    "passwords = []\n",
    "\n",
    "#Format is 'min-max l: password' \n",
    "\n",
    "for i in input:\n",
    "    mins.append(int(i[:i.find('-')])) #string slice up to '-'\n",
    "    maxs.append(int(i[i.find('-')+1:i.find(' ')])) #string slice from character after '-' to ' '\n",
    "    letters.append(i[i.find(':')-1]) #get character before ':'\n",
    "    passwords.append(i[i.find(':')+2:]) #string slice from 2 characters after ':' (slicing on ' ' won't work as .find gets first occurrance) \n"
   ]
  },
  {
   "cell_type": "code",
   "execution_count": 5,
   "metadata": {},
   "outputs": [
    {
     "name": "stdout",
     "output_type": "stream",
     "text": [
      "393\n"
     ]
    }
   ],
   "source": [
    "valid = 0;\n",
    "\n",
    "for i in range(0,len(input)):\n",
    "    if passwords[i].count(letters[i]) >= mins[i] and passwords[i].count(letters[i]) <= maxs[i]:\n",
    "        print([input[i], \"Valid\"])\n",
    "        valid += 1\n",
    "    else:\n",
    "        print([input[i], \"Invalid\"])\n",
    "\n",
    "print(valid)"
   ]
  }
 ],
 "metadata": {
  "kernelspec": {
   "display_name": "Python 3",
   "language": "python",
   "name": "python3"
  },
  "language_info": {
   "codemirror_mode": {
    "name": "ipython",
    "version": 3
   },
   "file_extension": ".py",
   "mimetype": "text/x-python",
   "name": "python",
   "nbconvert_exporter": "python",
   "pygments_lexer": "ipython3",
   "version": "3.7.3"
  }
 },
 "nbformat": 4,
 "nbformat_minor": 2
}
