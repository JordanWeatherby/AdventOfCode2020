{
 "cells": [
  {
   "cell_type": "code",
   "execution_count": 1,
   "metadata": {},
   "outputs": [],
   "source": [
    "\"\"\"I really hate this code but it works\"\"\"\n",
    "\n",
    "input = []\n",
    "try:\n",
    "    f=open('input.txt',\"r\")\n",
    "    for line in f:\n",
    "        input.append(line.strip('\\n'))\n",
    "    print(input)\n",
    "except:\n",
    "    print(\"Failed to read file\")"
   ]
  },
  {
   "cell_type": "code",
   "execution_count": 2,
   "metadata": {},
   "outputs": [],
   "source": [
    "pos1 = []\n",
    "pos2 = []\n",
    "letters = []\n",
    "passwords = []\n",
    "\n",
    "#Format is 'pos1-pos2 l: password' \n",
    "\n",
    "for i in input:\n",
    "    pos1.append(int(i[:i.find('-')])) #string slice up to '-'\n",
    "    pos2.append(int(i[i.find('-')+1:i.find(' ')])) #string slice from character after '-' to ' '\n",
    "    letters.append(i[i.find(':')-1]) #get character before ':'\n",
    "    passwords.append(i[i.find(':')+2:]) #string slice from 2 characters after ':' (slicing on ' ' won't work as .find gets first occurrance) "
   ]
  },
  {
   "cell_type": "code",
   "execution_count": 6,
   "metadata": {},
   "outputs": [
    {
     "name": "stdout",
     "output_type": "stream",
     "text": [
      "690\n"
     ]
    }
   ],
   "source": [
    "valid = 0;\n",
    "\n",
    "for i in range(0,len(input)):\n",
    "    if passwords[i][pos1[i]-1] == letters[i] and passwords[i][pos2[i]-1] == letters[i]:\n",
    "        #if letter at both locations it is invalid\n",
    "        print([input[i], \"Invalid\"])\n",
    "    elif passwords[i][pos1[i]-1] == letters[i] or passwords[i][pos2[i]-1] == letters[i]:\n",
    "        #if letter is at one location it is valid\n",
    "        print([input[i], \"Valid\"])\n",
    "        valid += 1\n",
    "    else:\n",
    "        #if letter is at neither location it is invalid\n",
    "        print([input[i], \"Invalid\"])\n",
    "\n",
    "print(valid)"
   ]
  }
 ],
 "metadata": {
  "kernelspec": {
   "display_name": "Python 3",
   "language": "python",
   "name": "python3"
  },
  "language_info": {
   "codemirror_mode": {
    "name": "ipython",
    "version": 3
   },
   "file_extension": ".py",
   "mimetype": "text/x-python",
   "name": "python",
   "nbconvert_exporter": "python",
   "pygments_lexer": "ipython3",
   "version": "3.7.3"
  }
 },
 "nbformat": 4,
 "nbformat_minor": 2
}
