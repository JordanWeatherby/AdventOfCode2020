{
 "cells": [
  {
   "cell_type": "code",
   "execution_count": null,
   "metadata": {},
   "outputs": [],
   "source": [
    "inputs = []\n",
    "try:\n",
    "    f=open('input.txt',\"r\")\n",
    "    for line in f:\n",
    "        inputs.append(line.strip('\\n'))\n",
    "except:\n",
    "    print(\"Failed to read file\")\n",
    "    \n",
    "print(inputs)"
   ]
  },
  {
   "cell_type": "code",
   "execution_count": null,
   "metadata": {},
   "outputs": [],
   "source": [
    "valid_bags = [\"shiny gold\"]\n",
    "last_bags=[]\n",
    "\n",
    "while valid_bags != last_bags:\n",
    "    last_bags = valid_bags.copy()\n",
    "    for bag in inputs:\n",
    "        if any(col in bag.split(\" bags contain\")[1] for col in valid_bags):\n",
    "            if bag.split(\" bags contain\")[0] not in valid_bags:\n",
    "                valid_bags.append(bag.split(\" bags contain\")[0])    \n",
    "        \n",
    "#print(valid_bags) \n",
    "print(len(valid_bags)-1)"
   ]
  }
 ],
 "metadata": {
  "kernelspec": {
   "display_name": "Python 3",
   "language": "python",
   "name": "python3"
  },
  "language_info": {
   "codemirror_mode": {
    "name": "ipython",
    "version": 3
   },
   "file_extension": ".py",
   "mimetype": "text/x-python",
   "name": "python",
   "nbconvert_exporter": "python",
   "pygments_lexer": "ipython3",
   "version": "3.7.3"
  }
 },
 "nbformat": 4,
 "nbformat_minor": 2
}
