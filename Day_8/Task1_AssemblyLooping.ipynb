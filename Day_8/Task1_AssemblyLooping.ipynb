{
 "cells": [
  {
   "cell_type": "code",
   "execution_count": null,
   "metadata": {},
   "outputs": [],
   "source": [
    "inputs = []\n",
    "try:\n",
    "    f=open('input.txt',\"r\")\n",
    "    for line in f:\n",
    "        inputs.append(line.strip('\\n').split())\n",
    "except:\n",
    "    print(\"Failed to read file\")\n",
    "    \n",
    "    \n",
    "print(inputs)"
   ]
  },
  {
   "cell_type": "code",
   "execution_count": null,
   "metadata": {},
   "outputs": [],
   "source": [
    "accumulator=0\n",
    "exed_commands = []\n",
    "cursor=0\n",
    "\n",
    "while cursor not in exed_commands:\n",
    "    print(inputs[cursor])\n",
    "    if inputs[cursor][0] == 'nop':\n",
    "        exed_commands.append(cursor)\n",
    "        cursor+=1\n",
    "    elif inputs[cursor][0] == 'acc':\n",
    "        exed_commands.append(cursor)\n",
    "        accumulator+= int(inputs[cursor][1])\n",
    "        cursor+=1\n",
    "    elif inputs[cursor][0] == 'jmp':\n",
    "        exed_commands.append(cursor)\n",
    "        cursor += int(inputs[cursor][1])\n",
    "        \n",
    "print(accumulator)"
   ]
  }
 ],
 "metadata": {
  "kernelspec": {
   "display_name": "Python 3",
   "language": "python",
   "name": "python3"
  },
  "language_info": {
   "codemirror_mode": {
    "name": "ipython",
    "version": 3
   },
   "file_extension": ".py",
   "mimetype": "text/x-python",
   "name": "python",
   "nbconvert_exporter": "python",
   "pygments_lexer": "ipython3",
   "version": "3.7.3"
  }
 },
 "nbformat": 4,
 "nbformat_minor": 2
}
