{
 "cells": [
  {
   "cell_type": "code",
   "execution_count": null,
   "metadata": {
    "scrolled": true
   },
   "outputs": [],
   "source": [
    "inputs = []\n",
    "try:\n",
    "    f=open('input.txt',\"r\")\n",
    "    for line in f:\n",
    "        inputs.append(int(line.strip('\\\\n')))\n",
    "except:\n",
    "    print(\"Failed to read file\")\n",
    "\n",
    "print(inputs)"
   ]
  },
  {
   "cell_type": "code",
   "execution_count": null,
   "metadata": {},
   "outputs": [],
   "source": [
    "pre=25\n",
    "    \n",
    "for i in range(pre,len(inputs)-pre):\n",
    "    valid = False\n",
    "    for num in inputs[i-1:i+pre-1]:\n",
    "        last = inputs[i-1:i+pre][-1]\n",
    "        oth = abs(last - num)\n",
    "        if oth in inputs[i-1:i+pre]:\n",
    "            valid = True\n",
    "    if not valid:\n",
    "        print(last)\n",
    "        break"
   ]
  },
  {
   "cell_type": "code",
   "execution_count": null,
   "metadata": {},
   "outputs": [],
   "source": [
    "#Slow version\n",
    "pt1=375054920\n",
    "\n",
    "cont = []\n",
    "count = 0\n",
    "for j in range(2,len(inputs)):\n",
    "    for i in range(0,len(inputs)-j):\n",
    "        if sum(inputs[i:i+j]) == pt1:\n",
    "            cont = inputs[i:i+j]\n",
    "        count+=1\n",
    "\n",
    "print(cont)\n",
    "cont.sort()\n",
    "print([cont[0],cont[-1]])\n",
    "print(cont[0]+cont[-1])\n",
    "print(count)"
   ]
  },
  {
   "cell_type": "code",
   "execution_count": null,
   "metadata": {},
   "outputs": [],
   "source": [
    "#Fast version based on gavin's code\n",
    "\n",
    "pt1=375054920\n",
    "\n",
    "i=0\n",
    "j=0\n",
    "count = 0\n",
    "while sum(inputs[i:j]) != pt1:\n",
    "    if sum(inputs[i:j]) < pt1:\n",
    "        j+=1\n",
    "    elif sum(inputs[i:j]) > pt1:\n",
    "        i+=1\n",
    "    count+=1\n",
    "        \n",
    "cont = inputs[i:j]\n",
    "\n",
    "print(cont)\n",
    "cont.sort()\n",
    "print([cont[0],cont[-1]])\n",
    "print(cont[0]+cont[-1])\n",
    "print(count)"
   ]
  }
 ],
 "metadata": {
  "kernelspec": {
   "display_name": "Python 3",
   "language": "python",
   "name": "python3"
  },
  "language_info": {
   "codemirror_mode": {
    "name": "ipython",
    "version": 3
   },
   "file_extension": ".py",
   "mimetype": "text/x-python",
   "name": "python",
   "nbconvert_exporter": "python",
   "pygments_lexer": "ipython3",
   "version": "3.7.3"
  }
 },
 "nbformat": 4,
 "nbformat_minor": 2
}
