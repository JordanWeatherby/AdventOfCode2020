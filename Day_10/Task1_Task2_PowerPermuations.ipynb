{
 "cells": [
  {
   "cell_type": "code",
   "execution_count": null,
   "metadata": {},
   "outputs": [],
   "source": [
    "inputs = []\n",
    "try:\n",
    "    f=open('input.txt',\"r\")\n",
    "    for line in f:\n",
    "        inputs.append(int(line.strip('\\\\n')))\n",
    "except:\n",
    "    print(\"Failed to read file\")\n",
    "\n",
    "print(inputs)"
   ]
  },
  {
   "cell_type": "code",
   "execution_count": null,
   "metadata": {},
   "outputs": [],
   "source": [
    "import numpy as np\n",
    "\n",
    "inputs.sort()\n",
    "\n",
    "diff=np.diff(inputs)\n",
    "diff=diff.tolist()\n",
    "diff.insert(0,1) #Add wall plug\n",
    "diff.append(3) #Add plug into device\n",
    "\n",
    "\n",
    "print(inputs)\n",
    "print(diff)\n",
    "print(diff.count(1))\n",
    "print(diff.count(3))\n",
    "print((diff.count(3))*(diff.count(1)))"
   ]
  },
  {
   "cell_type": "code",
   "execution_count": null,
   "metadata": {},
   "outputs": [],
   "source": [
    "count=1\n",
    "i =0\n",
    "while i < len(diff):\n",
    "    ones=0\n",
    "    while diff[i] == 1:\n",
    "        ones+=1\n",
    "        i+=1\n",
    "    else:\n",
    "        count *= last_tribb(ones)\n",
    "        i+=1\n",
    "        \n",
    "print(count)"
   ]
  },
  {
   "cell_type": "code",
   "execution_count": null,
   "metadata": {},
   "outputs": [],
   "source": [
    "len(diff)"
   ]
  },
  {
   "cell_type": "code",
   "execution_count": null,
   "metadata": {},
   "outputs": [],
   "source": [
    "#Got idea to use tribbonacci from https://demonstrations.wolfram.com/WaysOfSteppingOneTwoOrThreeStairsUpAStairway\n",
    "def last_tribb(n):\n",
    "    nums = [0,0,1]\n",
    "    \n",
    "    for i in range(0,n):\n",
    "        nums.append(nums[i]+nums[i+1]+nums[i+2])\n",
    "    return nums[-1]\n",
    "        \n",
    "print(last_tribb(3))"
   ]
  }
 ],
 "metadata": {
  "kernelspec": {
   "display_name": "Python 3",
   "language": "python",
   "name": "python3"
  },
  "language_info": {
   "codemirror_mode": {
    "name": "ipython",
    "version": 3
   },
   "file_extension": ".py",
   "mimetype": "text/x-python",
   "name": "python",
   "nbconvert_exporter": "python",
   "pygments_lexer": "ipython3",
   "version": "3.7.3"
  }
 },
 "nbformat": 4,
 "nbformat_minor": 2
}
