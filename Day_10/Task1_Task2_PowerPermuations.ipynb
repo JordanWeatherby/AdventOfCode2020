{
 "cells": [
  {
   "cell_type": "code",
   "execution_count": 60,
   "metadata": {},
   "outputs": [
    {
     "name": "stdout",
     "output_type": "stream",
     "text": [
      "[97, 62, 23, 32, 51, 19, 98, 26, 90, 134, 73, 151, 116, 76, 6, 94, 113, 127, 119, 44, 115, 50, 143, 150, 86, 91, 36, 104, 131, 101, 38, 66, 46, 96, 54, 70, 8, 30, 1, 108, 69, 139, 24, 29, 77, 124, 107, 14, 137, 16, 140, 80, 68, 25, 31, 59, 45, 126, 148, 67, 13, 125, 53, 57, 41, 47, 35, 145, 120, 12, 37, 5, 110, 138, 130, 2, 63, 83, 22, 79, 52, 7, 95, 58, 149, 123, 89, 109, 15, 144, 114, 9, 78]\n"
     ]
    }
   ],
   "source": [
    "inputs = []\n",
    "try:\n",
    "    f=open('input.txt',\"r\")\n",
    "    for line in f:\n",
    "        inputs.append(int(line.strip('\\\\n')))\n",
    "except:\n",
    "    print(\"Failed to read file\")\n",
    "\n",
    "print(inputs)"
   ]
  },
  {
   "cell_type": "code",
   "execution_count": 62,
   "metadata": {},
   "outputs": [
    {
     "name": "stdout",
     "output_type": "stream",
     "text": [
      "[1, 2, 5, 6, 7, 8, 9, 12, 13, 14, 15, 16, 19, 22, 23, 24, 25, 26, 29, 30, 31, 32, 35, 36, 37, 38, 41, 44, 45, 46, 47, 50, 51, 52, 53, 54, 57, 58, 59, 62, 63, 66, 67, 68, 69, 70, 73, 76, 77, 78, 79, 80, 83, 86, 89, 90, 91, 94, 95, 96, 97, 98, 101, 104, 107, 108, 109, 110, 113, 114, 115, 116, 119, 120, 123, 124, 125, 126, 127, 130, 131, 134, 137, 138, 139, 140, 143, 144, 145, 148, 149, 150, 151]\n",
      "[1, 1, 3, 1, 1, 1, 1, 3, 1, 1, 1, 1, 3, 3, 1, 1, 1, 1, 3, 1, 1, 1, 3, 1, 1, 1, 3, 3, 1, 1, 1, 3, 1, 1, 1, 1, 3, 1, 1, 3, 1, 3, 1, 1, 1, 1, 3, 3, 1, 1, 1, 1, 3, 3, 3, 1, 1, 3, 1, 1, 1, 1, 3, 3, 3, 1, 1, 1, 3, 1, 1, 1, 3, 1, 3, 1, 1, 1, 1, 3, 1, 3, 3, 1, 1, 1, 3, 1, 1, 3, 1, 1, 1, 3]\n",
      "64\n",
      "30\n",
      "1920\n"
     ]
    }
   ],
   "source": [
    "import numpy as np\n",
    "\n",
    "inputs.sort()\n",
    "\n",
    "diff=np.diff(inputs)\n",
    "diff=diff.tolist()\n",
    "diff.insert(0,1) #Add wall plug\n",
    "diff.append(3) #Add plug into device\n",
    "\n",
    "\n",
    "print(inputs)\n",
    "print(diff)\n",
    "print(diff.count(1))\n",
    "print(diff.count(3))\n",
    "print((diff.count(3))*(diff.count(1)))"
   ]
  },
  {
   "cell_type": "code",
   "execution_count": 63,
   "metadata": {},
   "outputs": [
    {
     "name": "stdout",
     "output_type": "stream",
     "text": [
      "1511207993344\n"
     ]
    }
   ],
   "source": [
    "count=1\n",
    "i =0\n",
    "while i < len(diff):\n",
    "    ones=0\n",
    "    while diff[i] == 1:\n",
    "        ones+=1\n",
    "        i+=1\n",
    "    else:\n",
    "        count *= last_tribb(ones)\n",
    "        i+=1\n",
    "        \n",
    "print(count)"
   ]
  },
  {
   "cell_type": "code",
   "execution_count": 55,
   "metadata": {},
   "outputs": [
    {
     "data": {
      "text/plain": [
       "32"
      ]
     },
     "execution_count": 55,
     "metadata": {},
     "output_type": "execute_result"
    }
   ],
   "source": [
    "len(diff)"
   ]
  },
  {
   "cell_type": "code",
   "execution_count": 53,
   "metadata": {},
   "outputs": [
    {
     "name": "stdout",
     "output_type": "stream",
     "text": [
      "4\n"
     ]
    }
   ],
   "source": [
    "#Got idea to use tribbonacci from https://demonstrations.wolfram.com/WaysOfSteppingOneTwoOrThreeStairsUpAStairway\n",
    "def last_tribb(n):\n",
    "    nums = [0,0,1]\n",
    "    \n",
    "    for i in range(0,n):\n",
    "        nums.append(nums[i]+nums[i+1]+nums[i+2])\n",
    "    return nums[-1]\n",
    "        \n",
    "print(last_tribb(3))"
   ]
  }
 ],
 "metadata": {
  "kernelspec": {
   "display_name": "Python 3",
   "language": "python",
   "name": "python3"
  },
  "language_info": {
   "codemirror_mode": {
    "name": "ipython",
    "version": 3
   },
   "file_extension": ".py",
   "mimetype": "text/x-python",
   "name": "python",
   "nbconvert_exporter": "python",
   "pygments_lexer": "ipython3",
   "version": "3.7.3"
  }
 },
 "nbformat": 4,
 "nbformat_minor": 2
}
